{
  "metadata": {
    "kernelspec": {
      "name": "python",
      "display_name": "Python (Pyodide)",
      "language": "python"
    },
    "language_info": {
      "codemirror_mode": {
        "name": "python",
        "version": 3
      },
      "file_extension": ".py",
      "mimetype": "text/x-python",
      "name": "python",
      "nbconvert_exporter": "python",
      "pygments_lexer": "ipython3",
      "version": "3.8"
    }
  },
  "nbformat_minor": 4,
  "nbformat": 4,
  "cells": [
    {
      "cell_type": "markdown",
      "source": "# U.S. Medical Insurance Costs",
      "metadata": {}
    },
    {
      "cell_type": "code",
      "source": "import csv\nimport pandas as pd\n\n#import insurance data to list\ndef import_csv(file):\n    with open('insurance.csv') as insurance_data:\n        reader = csv.DictReader(insurance_data)\n        insurance_info = []\n        for row in reader:\n            insurance_info.append(row)\n    return insurance_info\n\ninsurance_info = pd.read_csv('insurance.csv') \nprint(insurance_info.head())",
      "metadata": {
        "trusted": true
      },
      "outputs": [
        {
          "name": "stdout",
          "output_type": "stream",
          "text": "   age     sex     bmi  children smoker     region      charges\n0   19  female  27.900         0    yes  southwest  16884.92400\n1   18    male  33.770         1     no  southeast   1725.55230\n2   28    male  33.000         3     no  southeast   4449.46200\n3   33    male  22.705         0     no  northwest  21984.47061\n4   32    male  28.880         0     no  northwest   3866.85520\n"
        }
      ],
      "execution_count": 2
    },
    {
      "cell_type": "markdown",
      "source": "<hr>\n\n## Cleaning Data\n\nThe data received in the dataset has been pre-cleaned. However I will change the datatypes of the 'sex', 'smoker', and 'region' columns to improve usability in computations. The 'region' column will be converted from a pandas object to a string. The 'sex' and 'smoker' columns are both binary data and will be converted to booleans.\n\n<hr>",
      "metadata": {}
    },
    {
      "cell_type": "code",
      "source": "insurance_info['region'] = insurance_info['region'].astype('string')\ninsurance_info = insurance_info.replace({'smoker': {'yes': True, 'no': False}})\ninsurance_info = insurance_info.replace({'sex': {'female': 0, 'male': 1}})\ninsurance_info['sex'] = insurance_info['sex'].astype('bool')",
      "metadata": {
        "trusted": true
      },
      "outputs": [
        {
          "name": "stderr",
          "output_type": "stream",
          "text": "<ipython-input-3-bade6b94549d>:2: FutureWarning: Downcasting behavior in `replace` is deprecated and will be removed in a future version. To retain the old behavior, explicitly call `result.infer_objects(copy=False)`. To opt-in to the future behavior, set `pd.set_option('future.no_silent_downcasting', True)`\n  insurance_info = insurance_info.replace({'smoker': {'yes': True, 'no': False}})\n<ipython-input-3-bade6b94549d>:3: FutureWarning: Downcasting behavior in `replace` is deprecated and will be removed in a future version. To retain the old behavior, explicitly call `result.infer_objects(copy=False)`. To opt-in to the future behavior, set `pd.set_option('future.no_silent_downcasting', True)`\n  insurance_info = insurance_info.replace({'sex': {'female': 0, 'male': 1}})\n"
        }
      ],
      "execution_count": 3
    },
    {
      "cell_type": "markdown",
      "source": "<hr>\n\n## Classifying Customers\n\nThe below block of code adds an additional column to the dataframe to assign a BMI classification based on specifications from the US Center for Disease Control.\n<hr>",
      "metadata": {}
    },
    {
      "cell_type": "code",
      "source": "weight_classification = lambda row: 'underweight' if row['bmi'] < 18.5 else \\\n    ('healthy' if row['bmi']  > 18.5 and row['bmi']  < 25 else\n    ('overweight' if row['bmi'] > 25 and row['bmi'] < 30 else\n    ('obese class 1' if row['bmi'] > 30 and row['bmi'] < 35 else\n    ('obese class 2' if row['bmi'] > 35 and row['bmi'] < 40 else\n    ('obese class 3 (severely obese)')))))  \n\ninsurance_info['classification'] = insurance_info.apply(weight_classification, axis=1)\nprint(insurance_info.head())",
      "metadata": {
        "trusted": true
      },
      "outputs": [
        {
          "name": "stdout",
          "output_type": "stream",
          "text": "   age    sex     bmi  children  smoker     region      charges classification\n0   19  False  27.900         0    True  southwest  16884.92400     overweight\n1   18   True  33.770         1   False  southeast   1725.55230  obese class 1\n2   28   True  33.000         3   False  southeast   4449.46200  obese class 1\n3   33   True  22.705         0   False  northwest  21984.47061        healthy\n4   32   True  28.880         0   False  northwest   3866.85520     overweight\n"
        }
      ],
      "execution_count": 4
    },
    {
      "cell_type": "markdown",
      "source": "<hr>\n\n## Charges By Class \n\nThe section below determines and prints the average charges per CDC classification, rounded to two decimal places for ease of reading. After determining the average for each classification, it determines which classification has the highest overall average and the lowest overall average.\n\n<hr>",
      "metadata": {}
    },
    {
      "cell_type": "code",
      "source": "avg_charge_by_class = insurance_info.groupby('classification').charges.mean().sort_values().reset_index()\navg_charge_by_class = avg_charge_by_class.round(2)\n\nmin_charges = \"\\nThe \" + avg_charge_by_class['classification'][0] + \" classification has the lowest average charges with $\" + str(avg_charge_by_class['charges'][0]) \nmax_charges = \"\\nThe \" + avg_charge_by_class['classification'].iloc[-1] + \" classification has the highest average charges with $\" + str(avg_charge_by_class['charges'].iloc[-1]) \n\nprint(avg_charge_by_class)\nprint(min_charges)\nprint(max_charges)",
      "metadata": {
        "trusted": true
      },
      "outputs": [
        {
          "name": "stdout",
          "output_type": "stream",
          "text": "                   classification   charges\n0                     underweight   8852.20\n1                         healthy  10434.53\n2                      overweight  10989.85\n3                   obese class 1  14429.42\n4  obese class 3 (severely obese)  16440.51\n5                   obese class 2  17022.26\n\nThe underweight classification has the lowest average charges with $8852.2\n\nThe obese class 2 classification has the highest average charges with $17022.26\n"
        }
      ],
      "execution_count": 5
    },
    {
      "cell_type": "markdown",
      "source": "<hr>\n\n## BMI By Region\n\nThe section below determines and prints the average BMI for each residential region in the data set. After determining the average for each region, the code will determine which has the highest overall average and the lowest overall average. \n\n<hr>",
      "metadata": {}
    },
    {
      "cell_type": "code",
      "source": "bmi_by_region = insurance_info.groupby('region').bmi.mean().reset_index()\nbmi_by_region['classification'] = bmi_by_region.apply(weight_classification, axis=1)\nbmi_by_region = bmi_by_region.sort_values(by='bmi').reset_index()\n\nmin_bmi_by_region = \"\\n The \" + bmi_by_region.region.iloc[0] + \" region has the lowest average bmi at \" + str(bmi_by_region.bmi.iloc[0]) + \", with an average classification of \\\"\" + bmi_by_region.classification.iloc[0] + \"\\\"\" \nmax_bmi_by_region = \"\\n The \" + bmi_by_region.region.iloc[-1] + \" region has the highest average bmi at \" + str(bmi_by_region.bmi.iloc[-1]) + \", with an average classification of \\\"\" + bmi_by_region.classification.iloc[-1] + \"\\\"\" \n\nprint(bmi_by_region)\nprint(min_bmi_by_region)\nprint(max_bmi_by_region)",
      "metadata": {
        "trusted": true
      },
      "outputs": [
        {
          "name": "stdout",
          "output_type": "stream",
          "text": "   index     region        bmi classification\n0      0  northeast  29.173503     overweight\n1      1  northwest  29.199785     overweight\n2      3  southwest  30.596615  obese class 1\n3      2  southeast  33.355989  obese class 1\n\n The northeast region has the lowest average bmi at 29.173503086419753, with an average classification of \"overweight\"\n\n The southeast region has the highest average bmi at 33.35598901098901, with an average classification of \"obese class 1\"\n"
        }
      ],
      "execution_count": 6
    },
    {
      "cell_type": "markdown",
      "source": "<hr>\n\n## Charges by Region\nThe section below determines the average insurance charges for each region, then determines which region has the highest average charges and which has the lowest average charges.\n\n<hr>",
      "metadata": {}
    },
    {
      "cell_type": "code",
      "source": "charge_by_region = insurance_info.groupby('region').charges.mean().reset_index()\ncharge_by_region = charge_by_region.round(2)\ncharge_by_region = charge_by_region.sort_values(by='charges').reset_index()\n\nmin_charge_by_region = \"\\n The \" + charge_by_region.region.iloc[0] + \" region has the lowest average charges with $\" + str(charge_by_region.charges.iloc[0])\nmax_charge_by_region = \"\\n The \" + charge_by_region.region.iloc[-1] + \" region has the highest average charges with $\" + str(charge_by_region.charges.iloc[-1])\n\nprint(charge_by_region)\nprint(min_charge_by_region)\nprint(max_charge_by_region)",
      "metadata": {
        "trusted": true
      },
      "outputs": [
        {
          "name": "stdout",
          "output_type": "stream",
          "text": "   index     region   charges\n0      3  southwest  12346.94\n1      1  northwest  12417.58\n2      0  northeast  13406.38\n3      2  southeast  14735.41\n\n The southwest region has the lowest average charges with $12346.94\n\n The southeast region has the highest average charges with $14735.41\n"
        }
      ],
      "execution_count": 7
    },
    {
      "cell_type": "markdown",
      "source": "<hr>\n\n## Smokers and BMI \n\nThis section separates customers in the data set by their smoker status and then again by region, in order to compare whether smokers have higher average BMIs than non-smokers, and how this relates to their average charges. ",
      "metadata": {}
    },
    {
      "cell_type": "code",
      "source": "bmi_by_region_smoker_status = insurance_info.groupby(['region', 'smoker']).bmi.mean().reset_index()\nbmi_by_region_smoker_status['classification'] = bmi_by_region_smoker_status.apply(weight_classification, axis=1)\n\n\ncharges_by_region_smoker_status = insurance_info.groupby(['region', 'smoker']).charges.mean().reset_index()\ncharges_by_region_smoker_status['charges']=charges_by_region_smoker_status['charges'].round(2)\n\ncharges_and_class_by_region = pd.merge(charges_by_region_smoker_status, bmi_by_region_smoker_status)\n\nprint(charges_and_class_by_region)\n",
      "metadata": {
        "trusted": true
      },
      "outputs": [
        {
          "name": "stdout",
          "output_type": "stream",
          "text": "      region  smoker   charges        bmi classification\n0  northeast   False   9165.53  29.332082     overweight\n1  northeast    True  29673.54  28.565224     overweight\n2  northwest   False   8556.46  29.212678     overweight\n3  northwest    True  30192.00  29.140431     overweight\n4  southeast   False   8032.22  33.442418  obese class 1\n5  southeast    True  34845.00  33.096703  obese class 1\n6  southwest   False   8019.28  30.507865  obese class 1\n7  southwest    True  32269.06  31.005172  obese class 1\n"
        }
      ],
      "execution_count": 19
    }
  ]
}
