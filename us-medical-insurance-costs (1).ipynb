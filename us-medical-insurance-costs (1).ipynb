{
  "metadata": {
    "kernelspec": {
      "name": "python",
      "display_name": "Python (Pyodide)",
      "language": "python"
    },
    "language_info": {
      "codemirror_mode": {
        "name": "python",
        "version": 3
      },
      "file_extension": ".py",
      "mimetype": "text/x-python",
      "name": "python",
      "nbconvert_exporter": "python",
      "pygments_lexer": "ipython3",
      "version": "3.8"
    }
  },
  "nbformat_minor": 4,
  "nbformat": 4,
  "cells": [
    {
      "cell_type": "markdown",
      "source": "# U.S. Medical Insurance Costs",
      "metadata": {}
    },
    {
      "cell_type": "code",
      "source": "import csv\n\n#import insurance data to list\ndef import_csv(file):\n    with open('insurance.csv') as insurance_data:\n        reader = csv.DictReader(insurance_data)\n        insurance_info = []\n        for row in reader:\n            insurance_info.append(row)\n    return insurance_info\n\ninsurance_info = import_csv('insurance.csv') ",
      "metadata": {
        "trusted": true
      },
      "outputs": [],
      "execution_count": null
    },
    {
      "cell_type": "markdown",
      "source": "\n## Classifying Customers\n\nThe below block of code organizes the customers in the data set into categories based on BMI classifications from the US Center for Disease Control.\n<hr>",
      "metadata": {}
    },
    {
      "cell_type": "code",
      "source": "underweight_BMIs = []\nhealthy_BMIs = []\noverweight_BMIs = []\nobese_1_BMIs = []\nobese_2_BMIs = []\nobese_3_BMIs = []\n\nfor customer in range(len(insurance_info)):\n    if float(insurance_info[customer]['bmi']) < 18.5:\n        underweight_BMIs.append(insurance_info[customer])\n    elif float(insurance_info[customer]['bmi']) > 18.5 and float(insurance_info[customer]['bmi']) < 25:\n        healthy_BMIs.append(insurance_info[customer])\n    elif float(insurance_info[customer]['bmi']) > 25 and float(insurance_info[customer]['bmi']) < 30:\n        overweight_BMIs.append(insurance_info[customer])\n    elif float(insurance_info[customer]['bmi']) > 30 and float(insurance_info[customer]['bmi']) < 35:\n        obese_1_BMIs.append(insurance_info[customer])\n    elif float(insurance_info[customer]['bmi']) > 35 and float(insurance_info[customer]['bmi']) < 40:\n        obese_2_BMIs.append(insurance_info[customer])\n    else:\n        obese_3_BMIs.append(insurance_info[customer])  ",
      "metadata": {
        "trusted": true
      },
      "outputs": [],
      "execution_count": null
    },
    {
      "cell_type": "markdown",
      "source": "<hr>\n\n## Charges By Class \n\nThe section below determines and prints the average charges per CDC classification, rounded to two decimal places for ease of reading. After determining the average for each classification, it determines which classification has the highest overall average and the lowest overall average.\n\n<hr>",
      "metadata": {}
    },
    {
      "cell_type": "code",
      "source": "def average_cost(classification):\n    total_charges = 0\n    average_charges = 0\n    for customer in range(len(classification)):\n        total_charges += float(classification[customer]['charges'])\n    average_charges = round((total_charges / len(classification)), 2)\n    return average_charges\n\ncharges_by_class = {}\ncharges_by_class['Underweight'] = average_cost(underweight_BMIs)\ncharges_by_class['Healthy'] = average_cost(healthy_BMIs)\ncharges_by_class['Overweight'] = average_cost(overweight_BMIs)\ncharges_by_class['Obese Class 1'] = average_cost(obese_1_BMIs)\ncharges_by_class['Obese Class 2'] = average_cost(obese_2_BMIs)\ncharges_by_class['Obese Class 3 - Severe Obesity'] = average_cost(obese_3_BMIs)\n\nfor classification in charges_by_class:\n    print(\"The average charge for customers with a BMI classified as \" + classification + \" is $\" + str(charges_by_class[classification]) + \".\\n\") \n\nlowest_charge = min(charges_by_class.values())\nlowest_class = [key for key, value in charges_by_class.items() if value == lowest_charge]\n\nprint(\"\\n\\nThe \" + lowest_class[0] + \" class has the lowest average BMI at $\" + str(lowest_charge) + \".\")\n\nhighest_charge = max(charges_by_class.values())\nhighest_class = [key for key, value in charges_by_class.items() if value == highest_charge]\n\nprint(\"\\n\\nThe \" + highest_class[0] + \" class has the lowest average BMI at $\" + str(highest_charge) + \".\")",
      "metadata": {
        "trusted": true
      },
      "outputs": [],
      "execution_count": null
    },
    {
      "cell_type": "markdown",
      "source": "<hr>\n\n## BMI By Region\n\nThe section below determines and prints the average BMI for each residential region in the data set. After determining the average for each region, the code will determine which has the highest overall average and the lowest overall average. \n\n<hr>",
      "metadata": {}
    },
    {
      "cell_type": "code",
      "source": "bmi_by_region= {}\naverage_counter = {}\nfor customer in range(len(insurance_info)):\n    if insurance_info[customer]['region'] not in bmi_by_region:\n        bmi_by_region[(insurance_info[customer]['region'].title())] = float(insurance_info[customer]['bmi'])\n        average_counter[(insurance_info[customer]['region'].title())] = 1\n    else:\n        bmi_by_region[(insurance_info[customer]['region'].title())] += float(insurance_info[customer]['bmi'])\n        average_counter[(insurance_info[customer]['region'].title())] += 1\n\nfor i in bmi_by_region:\n    bmi_by_region[i] = bmi_by_region[i] / average_counter[i]\n    bmi = round(bmi_by_region[i], 2)\n    region = i\n\n    if bmi_by_region[i] < 18.5:\n        classification = \"underweight\"\n    elif bmi_by_region[i] > 18.5 and bmi_by_region[i] < 25:\n        classification = \"healthy\"\n    elif bmi_by_region[i] > 25 and bmi_by_region[i] < 30:\n        classification = \"overweight\"\n    elif bmi_by_region[i] > 30 and bmi_by_region[i] < 35:\n        classification = \"obese (class 1)\"\n    elif bmi_by_region[i] > 35 and bmi_by_region[i] < 40:\n        classification = \"obese (class 2)\"\n    else:\n        classification = \"obese (class 3 - severe)\"\n        \n    BMI_summary = f\"The {region}, on average, is {classification} with a BMI of {bmi}.\\n\"\n    print(BMI_summary)\n\nhighest_BMI = max(bmi_by_region.values())\nhighest_region = [key for key, value in bmi_by_region.items() if value == highest_BMI]\n\nprint(\"\\n\\nThe \" + highest_region[0] + \" has the highest average BMI at \" + str(highest_BMI) + \".\")\n\nlowest_BMI = min(bmi_by_region.values())\nlowest_region = [key for key, value in bmi_by_region.items() if value == lowest_BMI]\n\nprint(\"\\n\\nThe \" + lowest_region[0] + \" has the lowest average BMI at \" + str(lowest_BMI) + \".\")",
      "metadata": {
        "trusted": true
      },
      "outputs": [],
      "execution_count": null
    },
    {
      "cell_type": "markdown",
      "source": "<hr>\n\n## Charges by Region\nThe section below determines the average insurance charges for each region, then determines which region has the highest average charges and which has the lowest average charges.\n\n<hr>",
      "metadata": {}
    },
    {
      "cell_type": "code",
      "source": "charges_by_region= {}\naverage_counter = {}\nfor customer in range(len(insurance_info)):\n    if insurance_info[customer]['region'] not in charges_by_region:\n        charges_by_region[(insurance_info[customer]['region'].title())] = float(insurance_info[customer]['charges'])\n        average_counter[(insurance_info[customer]['region'].title())] = 1\n    else:\n        charges_by_region[(insurance_info[customer]['region'].title())] += float(insurance_info[customer]['charges'])\n        average_counter[(insurance_info[customer]['region'].title())] += 1\n\nfor i in charges_by_region:\n    charges_by_region[i] = charges_by_region[i] / average_counter[i]\n    charges = round(charges_by_region[i], 2)\n    region = i\n        \n    charges_summary = f\"The {region} has an average charge of ${charges}.\\n\"\n    print(charges_summary)\n\nhighest_charges = max(charges_by_region.values())\nhighest_region_charges = [key for key, value in charges_by_region.items() if value == highest_charges]\n\nprint(\"\\n\\nThe \" + highest_region_charges[0] + \" has the highest average charges with $\" + str(round(highest_charges, 2)) + \".\")\n\nlowest_charges = min(charges_by_region.values())\nlowest_region_charges = [key for key, value in charges_by_region.items() if value == lowest_charges]\n\nprint(\"\\n\\nThe \" + lowest_region_charges[0] + \" has the lowest average charges with $\"  + str(round(lowest_charges, 2)) + \".\")",
      "metadata": {
        "trusted": true
      },
      "outputs": [],
      "execution_count": null
    },
    {
      "cell_type": "code",
      "source": "smokers_by_region = {}\nfor customer in range(len(insurance_info)):\n    if insurance_info[customer]['region'] not in charges_by_region:\n        smokers_by_region[(insurance_info[customer]['region'].title())] = 0\n        if insurance_info[customer]['smoker'] == \"yes\":\n            smokers_by_region[(insurance_info[customer]['region'].title())] += 1\n        else:\n            continue\n    else:\n        if insurance_info[customer]['smoker'] == \"yes\":\n            smokers_by_region[(insurance_info[customer]['region'].title())] += 1\n        else:\n            continue\n\nprint(smokers_by_region)",
      "metadata": {
        "trusted": true
      },
      "outputs": [],
      "execution_count": null
    }
  ]
}